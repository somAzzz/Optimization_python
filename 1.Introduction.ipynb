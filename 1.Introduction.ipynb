{
 "metadata": {
  "language_info": {
   "codemirror_mode": {
    "name": "ipython",
    "version": 3
   },
   "file_extension": ".py",
   "mimetype": "text/x-python",
   "name": "python",
   "nbconvert_exporter": "python",
   "pygments_lexer": "ipython3",
   "version": 3
  },
  "orig_nbformat": 2
 },
 "nbformat": 4,
 "nbformat_minor": 2,
 "cells": [
  {
   "source": [
    "## Introduction"
   ],
   "cell_type": "markdown",
   "metadata": {}
  },
  {
   "source": [
    "### Mathematical Formulation\n",
    "- x is the vector of variables, also called unknowns or parameters;\n",
    "- f is the objective function, a (scalar) function of x that we want to maximize or\n",
    "minimize;\n",
    "- $c_{i}$ are constraint functions, which are scalar functions of x that define certain equations\n",
    "and inequalities that the unknown vector x must satisfy.\n",
    " <br> <br>\n",
    " $ \\min \\limits_{x \\in R^{n}} f(x) \\quad subject \\ to \\quad c_{i}(x)=0, \\ i \\in \\varepsilon     \\\\  \\qquad \\qquad \\qquad  \\qquad \\qquad c_{i}(x)\\ge0,\\ i\\in\\iota $\n"
   ],
   "cell_type": "markdown",
   "metadata": {}
  },
  {
   "source": [
    "### Constrained and Unconstrained Optimization\n",
    "### Global an Local Optimization\n",
    "### Stochastic and Deterministic Optimization\n",
    "### Convexity\n",
    "\n",
    "- $  f(\\alpha x \\ + \\ (1-\\alpha)y)\\le \\alpha f(x) \\ + (1-\\alpha)f(y)  \\quad for \\ all \\ \\alpha \\in [0,1] $"
   ],
   "cell_type": "markdown",
   "metadata": {}
  },
  {
   "source": [
    "### Optimization Algorithms\n",
    "- Robustness. They should perform well on a wide variety of problems in their class, for all reasonable values of the starting point.\n",
    "- Efficiency. They should not require excessive computer time or storage.\n",
    "- Accuracy. They should be able to identify a solution with precision, without being overly sensitive to errors in the data or to the arithmetic rounding errors that occur\n",
    "when the algorithm is implemented on a computer."
   ],
   "cell_type": "markdown",
   "metadata": {}
  }
 ]
}
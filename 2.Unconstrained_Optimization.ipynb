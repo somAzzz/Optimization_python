{
 "metadata": {
  "language_info": {
   "codemirror_mode": {
    "name": "ipython",
    "version": 3
   },
   "file_extension": ".py",
   "mimetype": "text/x-python",
   "name": "python",
   "nbconvert_exporter": "python",
   "pygments_lexer": "ipython3",
   "version": "3.8.3-final"
  },
  "orig_nbformat": 2,
  "kernelspec": {
   "name": "Python 3.8.3 64-bit ('base': conda)",
   "display_name": "Python 3.8.3 64-bit ('base': conda)",
   "metadata": {
    "interpreter": {
     "hash": "8cfb3f5d3732c8e9b7a65fa38dddf816068d0252f6ef0bfbc44616f476e20867"
    }
   }
  }
 },
 "nbformat": 4,
 "nbformat_minor": 2,
 "cells": [
  {
   "source": [
    "## Unconstrained Optimization\n",
    "\n",
    "\n"
   ],
   "cell_type": "markdown",
   "metadata": {
    "tags": []
   }
  },
  {
   "source": [
    "### Solution\n",
    "- $ x^{*} $ is a global minimizer if $ f(x^{*})  \\le f(x) $ for all  $ x \\in \\mathbb{R}^{n} $.\n",
    "- $ x^{*} $ is a local minimizer if there is a neighborhood $ N $ of $ x^{*} $ such that $ f(x^{*}) \\le f(x) $ for all  $ x \\in N $.\n",
    "- $ x^{*} $ is a strict local minimizer if there is a neighborhood $ N $ of $ x^{*} $ such that $ f(x^{*}) < f(x) $ for all  $ x \\in N $ with $ x \\not = x^{*} $.\n",
    "- $ x^{*} $ is an isolated local minimizer if there is a neighborhood $ N $ of $ x^{*} $ such that $ x^{*} $ is the only local minimizer in $ N $."
   ],
   "cell_type": "markdown",
   "metadata": {}
  },
  {
   "source": [
    "### Recognizing a local minimum\n",
    "\n",
    "- Taylor`s Theorem\n",
    "<br> <br> \n",
    "$ f(x+p)=f(x)+\\triangledown f(x+tp)^{T}p  $ \n",
    "<br> <br>\n",
    "$\\\\ for \\  \\ t \\  \\in (0,1) \\qquad  \\triangledown f(x^{*}+p) = \\triangledown f(x^{*})+ \\int^{1}_{0}  \\triangledown^{2} f(x^{*}+p)p \\ dt $\n",
    "<br> <br>\n",
    "$ f(x+p)=f(x)+\\triangledown f(x)^{T} p + \\frac{1}{2} p^{T} \\triangledown^{2} f(x^{*}+p)p $\n",
    "<br> <br>\n",
    "- First-Order Necessary Conditions\n",
    " <br> <br> \n",
    " If $ x^{*} $ is a local minimizer and f is continuously differentiable in an open neighborhood\n",
    "of $ x^{*} $,  $ \\triangledown f(x^{*})=0 $\n",
    "<br> <br>\n",
    "- Second-Order Necessary Conditions\n",
    "<br> <br> \n",
    "If $ x^{*} $  is a local minimizer of $ f $ and $ \\triangledown^{2} f(x^{*}) $ exists and is continuous in an open neighborhood\n",
    "of $ x^{*} $ , then $ \\triangledown f(x^{*})=0 $   and $ \\triangledown^{2} f(x^{*}) \\ge 0 $ .\n",
    "<br> <br> \n",
    "- Second-Order Sufficient Conditions\n",
    "<br> <br> \n",
    "Suppose that $ \\triangledown^{2} f $ is continuous in an open neighborhood of $ x^{*} $ and that $ \\triangledown f(x^{*})=0 $ and $ \\triangledown^{2}f $ is positive definite. Then $ x^{*} $ is a strict local minimizer of $ f $.\n",
    "<br> <br> \n",
    "-Convexity\n",
    "<br> <br>\n",
    "When $ f $ is convex, any local minimizer $ x^{*} $ is a global minimizer of $ f $ . If in addition $ f $ is\n",
    "differentiable, then any stationary point $ x^{*} $ is a global minimizer of $ f $ .\n",
    "<br> <br>\n",
    "\n"
   ],
   "cell_type": "markdown",
   "metadata": {}
  },
  {
   "source": [
    "### Overview of Algorithms\n",
    "#### Line Search\n",
    "<br> <br>\n",
    "- Steepest descent method\n",
    "<br> <br>\n",
    "$ p= - \\triangledown f_{k} / \\parallel f_{k} \\ \\parallel$\n",
    "<br> <br>\n",
    "- Newton direction\n",
    "<br> <br>\n",
    "$ p^{N}_{k}=-( \\triangledown^{2}f_k)^{-1} \\triangledown f_k $\n",
    "<br> <br>\n",
    "- Quasi-Newton\n",
    "<br> <br>\n",
    "$ p_{k}=-B^{-1}_{k} \\triangledown f_{k} $\n",
    "<br> <br>\n",
    "- nonlinear conjugate gradient methods\n",
    "<br> <br>\n",
    "$ p_{k}=- \\triangledown f(x_{k})+ \\beta_{k}p_{k-1} $\n",
    "<br> <br>\n",
    "#### Trust Region\n"
   ],
   "cell_type": "markdown",
   "metadata": {}
  },
  {
   "cell_type": "code",
   "execution_count": null,
   "metadata": {},
   "outputs": [],
   "source": []
  }
 ]
}
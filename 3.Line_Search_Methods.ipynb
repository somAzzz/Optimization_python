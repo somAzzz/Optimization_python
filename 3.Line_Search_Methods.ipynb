{
 "metadata": {
  "language_info": {
   "codemirror_mode": {
    "name": "ipython",
    "version": 3
   },
   "file_extension": ".py",
   "mimetype": "text/x-python",
   "name": "python",
   "nbconvert_exporter": "python",
   "pygments_lexer": "ipython3",
   "version": "3.8.3-final"
  },
  "orig_nbformat": 2,
  "kernelspec": {
   "name": "Python 3.8.3 64-bit ('base': conda)",
   "display_name": "Python 3.8.3 64-bit ('base': conda)",
   "metadata": {
    "interpreter": {
     "hash": "8cfb3f5d3732c8e9b7a65fa38dddf816068d0252f6ef0bfbc44616f476e20867"
    }
   }
  }
 },
 "nbformat": 4,
 "nbformat_minor": 2,
 "cells": [
  {
   "source": [
    "## Line Search Methods"
   ],
   "cell_type": "markdown",
   "metadata": {}
  },
  {
   "source": [
    "### $ x_{k+1}=x_{k}+\\alpha_{k}p_{k} $ \n",
    "<br> <br>\n",
    "$ \\alpha_{k} $ is called the *step length*.\n",
    "<br> <br>\n",
    "$ p_{k} $ is the *direction*\n",
    "<br> <br>\n",
    "Most line search algorithms require $ p_{k} $ to be a *descent direction*- one for which $ p^{T}_{k} \\triangledown f_{k} < 0 $\n",
    "<br> <br>\n",
    "$p_{k}=-B^{-1}_{k} \\triangledown f_{k} $\n",
    "<br> <br>\n",
    "Where $ B_{k} $ is a symmetric and nonsingular matrix. In the *steepest descent* method, $ B_{k} $ is identity matrix $ I $, in *Newton`s method*, $ B_{k} $ is Hessian $ \\triangledown^{2}f(x_{k}) $. In *quasi-Newton* methods, $ B_{k} $ is an approximation to the Hessian.\n",
    "<br> <br>\n",
    "When $ B_{k} $ is positive definite, we have\n",
    "<br> <br>\n",
    "$p^{T}_{k} \\triangledown f_{k}= - \\triangledown f^{T}_{k} B^{-1}_{k} f_{k} < 0 $"
   ],
   "cell_type": "markdown",
   "metadata": {}
  },
  {
   "source": [
    "### Step Length\n",
    "\n",
    "#### Wolfe Conditions\n",
    "- a) Armijo Condition: sufficient decrease\n",
    "<br> <br>\n",
    "$ f(x_{k}+\\alpha p_{k}) \\le f(x_{k})+c_{1} \\alpha \\triangledown f^{T}_{k} p_{k} \\qquad c_{1} \\in (0,1)$\n",
    "<br> <br>\n",
    "- b) curvature Condition: rule out unacceptably short steps\n",
    "<br> <br>\n",
    "$ \\triangledown f(x_{k}+\\alpha_{k} p_{k})^{T} \\ge c_{2} \\triangledown f^{T}_{k} p_{k}  \\qquad c_{2} \\in (c_{1},1) $\n",
    "<br> <br>\n",
    "if $ \\phi'(\\alpha_{k})  $ is only slightly negative or even positive, it is a sign that\n",
    "we cannot expect much more decrease in f in this direction, so it makes sense to terminate the line search\n",
    "\n",
    "#### Strong Wolfe Conditions\n",
    "- $ f(x_{k}+\\alpha p_{k}) \\le f(x_{k})+c_{1} \\alpha \\triangledown f^{T}_{k} p_{k} \\qquad c_{1} \\in (0,1)$\n",
    "<br> <br>\n",
    "- $ |\\triangledown f(x_{k}+\\alpha_{k} p_{k})^{T}| \\le c_{2} |\\triangledown f^{T}_{k} p_{k}|  \\qquad c_{2} \\in (c_{1},1) $\n",
    "\n",
    "#### Goldstein Conditions\n",
    "- $ f(x_{k})+(1- c) \\alpha_{k} \\triangledown f^{T}_{k} p_{k} \\le f(x_{k}+\\alpha_{k} p_{k}) \\le f(x_{k})+c \\alpha_{k} \\triangledown f^{T}_{k} p_{k} \\qquad c \\in (0,\\frac{1}{2})$\n",
    "<br> <br>\n",
    "Goldstein conditions are often used in Newton-type methods but are not well suited for\n",
    "quasi-Newton methods that maintain a positive definite Hessian approximation.\n"
   ],
   "cell_type": "markdown",
   "metadata": {}
  },
  {
   "cell_type": "code",
   "execution_count": null,
   "metadata": {},
   "outputs": [],
   "source": []
  }
 ]
}